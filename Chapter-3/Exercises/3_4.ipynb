{
 "cells": [
  {
   "cell_type": "markdown",
   "id": "08740ba0",
   "metadata": {},
   "source": [
    "# How is it useful to decompose an image into it's bit planes?"
   ]
  },
  {
   "cell_type": "markdown",
   "id": "20f5b30b",
   "metadata": {},
   "source": [
    "By decomposing an image into bit planes, we can access more details of that image which cannot be accessed otherwise. One particular example would be image steganography, where we hide data in the lowest bit plane, without any visible change in the overall image. "
   ]
  },
  {
   "cell_type": "markdown",
   "id": "9a415c02",
   "metadata": {},
   "source": [
    "# Find all the bit planes of hte following image - "
   ]
  },
  {
   "cell_type": "code",
   "execution_count": 1,
   "id": "2b0973c9",
   "metadata": {},
   "outputs": [],
   "source": [
    "import cv2 \n",
    "import matplotlib.pyplot as plt "
   ]
  },
  {
   "cell_type": "code",
   "execution_count": 29,
   "id": "4cb4831d",
   "metadata": {},
   "outputs": [],
   "source": [
    "def bitPlaneSlicing(r, bit_plane):\n",
    "    dec = np.binary_repr(r, width = 4)\n",
    "    return int(dec[4-bit_plane])\n",
    "\n",
    "bitPlaneSlicingVec = np.vectorize(bitPlaneSlicing)"
   ]
  },
  {
   "cell_type": "code",
   "execution_count": 9,
   "id": "fea8d468",
   "metadata": {},
   "outputs": [],
   "source": [
    "dollar = cv2.imread(\"dollar.tif\",0)"
   ]
  },
  {
   "cell_type": "code",
   "execution_count": 10,
   "id": "093db582",
   "metadata": {},
   "outputs": [
    {
     "data": {
      "text/plain": [
       "dtype('uint8')"
      ]
     },
     "execution_count": 10,
     "metadata": {},
     "output_type": "execute_result"
    }
   ],
   "source": [
    "dollar.dtype"
   ]
  },
  {
   "cell_type": "code",
   "execution_count": 7,
   "id": "5e96f909",
   "metadata": {},
   "outputs": [
    {
     "data": {
      "text/plain": [
       "(500, 1192)"
      ]
     },
     "execution_count": 7,
     "metadata": {},
     "output_type": "execute_result"
    }
   ],
   "source": [
    "img.shape"
   ]
  },
  {
   "cell_type": "code",
   "execution_count": 12,
   "id": "902b2a48",
   "metadata": {},
   "outputs": [],
   "source": [
    "img = np.array([[0, 3, 7, 8],\n",
    "           [1, 1, 2, 2],\n",
    "          [3, 14, 15, 13],\n",
    "          [4,6,9,11]], dtype='uint8'\n",
    "          )"
   ]
  },
  {
   "cell_type": "code",
   "execution_count": 15,
   "id": "0dea5be6",
   "metadata": {},
   "outputs": [
    {
     "data": {
      "text/plain": [
       "array([[0, 1, 1, 0],\n",
       "       [1, 1, 0, 0],\n",
       "       [1, 0, 1, 1],\n",
       "       [0, 0, 1, 1]])"
      ]
     },
     "execution_count": 15,
     "metadata": {},
     "output_type": "execute_result"
    }
   ],
   "source": [
    "bitPlaneSlicingVec(img, bit_plane=1)"
   ]
  },
  {
   "cell_type": "code",
   "execution_count": 16,
   "id": "684cb6ec",
   "metadata": {},
   "outputs": [
    {
     "data": {
      "text/plain": [
       "array([[0, 1, 1, 0],\n",
       "       [0, 0, 1, 1],\n",
       "       [1, 1, 1, 0],\n",
       "       [0, 1, 0, 1]])"
      ]
     },
     "execution_count": 16,
     "metadata": {},
     "output_type": "execute_result"
    }
   ],
   "source": [
    "bitPlaneSlicingVec(img, bit_plane=2)"
   ]
  },
  {
   "cell_type": "code",
   "execution_count": 17,
   "id": "854ae376",
   "metadata": {},
   "outputs": [
    {
     "data": {
      "text/plain": [
       "array([[0, 0, 1, 0],\n",
       "       [0, 0, 0, 0],\n",
       "       [0, 1, 1, 1],\n",
       "       [1, 1, 0, 0]])"
      ]
     },
     "execution_count": 17,
     "metadata": {},
     "output_type": "execute_result"
    }
   ],
   "source": [
    "bitPlaneSlicingVec(img, bit_plane=3)"
   ]
  },
  {
   "cell_type": "code",
   "execution_count": 18,
   "id": "c5219fd5",
   "metadata": {},
   "outputs": [
    {
     "data": {
      "text/plain": [
       "array([[0, 0, 0, 1],\n",
       "       [0, 0, 0, 0],\n",
       "       [0, 1, 1, 1],\n",
       "       [0, 0, 1, 1]])"
      ]
     },
     "execution_count": 18,
     "metadata": {},
     "output_type": "execute_result"
    }
   ],
   "source": [
    "bitPlaneSlicingVec(img, bit_plane=4)"
   ]
  },
  {
   "cell_type": "code",
   "execution_count": null,
   "id": "1b6f09aa",
   "metadata": {},
   "outputs": [],
   "source": []
  },
  {
   "cell_type": "code",
   "execution_count": null,
   "id": "f5b269d1",
   "metadata": {},
   "outputs": [],
   "source": []
  }
 ],
 "metadata": {
  "kernelspec": {
   "display_name": "Python 3",
   "language": "python",
   "name": "python3"
  },
  "language_info": {
   "codemirror_mode": {
    "name": "ipython",
    "version": 3
   },
   "file_extension": ".py",
   "mimetype": "text/x-python",
   "name": "python",
   "nbconvert_exporter": "python",
   "pygments_lexer": "ipython3",
   "version": "3.9.4"
  }
 },
 "nbformat": 4,
 "nbformat_minor": 5
}
