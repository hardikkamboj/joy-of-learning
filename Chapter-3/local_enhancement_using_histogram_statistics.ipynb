{
 "cells": [
  {
   "cell_type": "code",
   "execution_count": 4,
   "id": "b7689b39",
   "metadata": {},
   "outputs": [],
   "source": [
    "import cv2 \n",
    "import numpy as np \n",
    "import matplotlib.pyplot as plt "
   ]
  },
  {
   "cell_type": "code",
   "execution_count": 13,
   "id": "94b44d39",
   "metadata": {},
   "outputs": [],
   "source": [
    "\n",
    "\n",
    "def local_histogram_enhancement(image, k0=0, k1=0.25, k2=0, k3=0.1, C=22.8, tile_size=8):\n",
    "    \"\"\"\n",
    "    Enhance low-contrast details in dark areas using histogram statistics.\n",
    "\n",
    "    Parameters:\n",
    "    - image: Input grayscale image (numpy array).\n",
    "    - k0, k1: Range for selecting dark regions based on mean intensity.\n",
    "    - k2, k3: Range for selecting low-contrast regions based on standard deviation.\n",
    "    - C: Enhancement factor.\n",
    "    - tile_size: Size of the local region for computing mean and std dev.\n",
    "\n",
    "    Returns:\n",
    "    - Enhanced image.\n",
    "    \"\"\"\n",
    "    if len(image.shape) == 3:\n",
    "        image = cv2.cvtColor(image, cv2.COLOR_BGR2GRAY)\n",
    "\n",
    "    h, w = image.shape\n",
    "    enhanced_image = image.astype(np.float32)  # Convert to float for scaling\n",
    "\n",
    "    # Compute global mean and standard deviation\n",
    "    m_G = np.mean(image)\n",
    "    sigma_G = np.std(image)\n",
    "\n",
    "    # Process image in local tiles\n",
    "    for i in range(0, h, tile_size):\n",
    "        for j in range(0, w, tile_size):\n",
    "            # Extract local region\n",
    "            tile = image[i:i+tile_size, j:j+tile_size]\n",
    "\n",
    "            # Compute local mean and standard deviation\n",
    "            m_sxy = np.mean(tile)\n",
    "            sigma_sxy = np.std(tile)\n",
    "\n",
    "            # Check if the region meets enhancement criteria\n",
    "            if (k0 * m_G <= m_sxy <= k1 * m_G) and (k2 * sigma_G <= sigma_sxy <= k3 * sigma_G):\n",
    "                enhanced_image[i:i+tile_size, j:j+tile_size] = np.clip(C * tile, 0, 255)  # Scale intensity\n",
    "\n",
    "    return enhanced_image.astype(np.uint8)  # Convert back to uint8\n",
    "\n"
   ]
  },
  {
   "cell_type": "code",
   "execution_count": 14,
   "id": "1ee3da3a",
   "metadata": {},
   "outputs": [
    {
     "data": {
      "text/plain": [
       "<matplotlib.image.AxesImage at 0x7fbc83250df0>"
      ]
     },
     "execution_count": 14,
     "metadata": {},
     "output_type": "execute_result"
    },
    {
     "data": {
      "image/png": "[encoded data removed]",
      "text/plain": [
       "<Figure size 432x288 with 1 Axes>"
      ]
     },
     "metadata": {
      "needs_background": "light"
     },
     "output_type": "display_data"
    }
   ],
   "source": [
    "im_path = \"../images/Fig0326(a)(embedded_square_noisy_512).tif\"\n",
    "\n",
    "img = cv2.imread(im_path)\n",
    "\n",
    "plt.imshow(img)"
   ]
  },
  {
   "cell_type": "code",
   "execution_count": 15,
   "id": "9f0921c0",
   "metadata": {},
   "outputs": [
    {
     "data": {
      "text/plain": [
       "<matplotlib.image.AxesImage at 0x7fbc890f85e0>"
      ]
     },
     "execution_count": 15,
     "metadata": {},
     "output_type": "execute_result"
    },
    {
     "data": {
      "image/png": "[encoded data removed]",
      "text/plain": [
       "<Figure size 432x288 with 1 Axes>"
      ]
     },
     "metadata": {
      "needs_background": "light"
     },
     "output_type": "display_data"
    }
   ],
   "source": [
    "result_img = local_histogram_enhancement(img)\n",
    "\n",
    "plt.imshow(result_img, cmap=\"gray\")"
   ]
  },
  {
   "cell_type": "code",
   "execution_count": 12,
   "id": "16ad29e7",
   "metadata": {},
   "outputs": [
    {
     "data": {
      "text/plain": [
       "160.65635681152344"
      ]
     },
     "execution_count": 12,
     "metadata": {},
     "output_type": "execute_result"
    }
   ],
   "source": [
    "sigma_G = np.mean(img)\n",
    "\n",
    "sigma_G"
   ]
  },
  {
   "cell_type": "code",
   "execution_count": 18,
   "id": "a3c61788",
   "metadata": {},
   "outputs": [
    {
     "data": {
      "text/plain": [
       "228"
      ]
     },
     "execution_count": 18,
     "metadata": {},
     "output_type": "execute_result"
    }
   ],
   "source": [
    "np.max(img)"
   ]
  },
  {
   "cell_type": "code",
   "execution_count": 16,
   "id": "d854a8da",
   "metadata": {},
   "outputs": [
    {
     "data": {
      "text/plain": [
       "array([[[  0,   0,   0],\n",
       "        [  0,   0,   0],\n",
       "        [  0,   0,   0],\n",
       "        ...,\n",
       "        [  0,   0,   0],\n",
       "        [227, 227, 227],\n",
       "        [227, 227, 227]],\n",
       "\n",
       "       [[  0,   0,   0],\n",
       "        [  0,   0,   0],\n",
       "        [  0,   0,   0],\n",
       "        ...,\n",
       "        [  0,   0,   0],\n",
       "        [227, 227, 227],\n",
       "        [227, 227, 227]],\n",
       "\n",
       "       [[  0,   0,   0],\n",
       "        [  0,   0,   0],\n",
       "        [  0,   0,   0],\n",
       "        ...,\n",
       "        [  0,   0,   0],\n",
       "        [227, 227, 227],\n",
       "        [227, 227, 227]],\n",
       "\n",
       "       ...,\n",
       "\n",
       "       [[  0,   0,   0],\n",
       "        [  0,   0,   0],\n",
       "        [  0,   0,   0],\n",
       "        ...,\n",
       "        [  0,   0,   0],\n",
       "        [227, 227, 227],\n",
       "        [227, 227, 227]],\n",
       "\n",
       "       [[  0,   0,   0],\n",
       "        [  0,   0,   0],\n",
       "        [  0,   0,   0],\n",
       "        ...,\n",
       "        [  0,   0,   0],\n",
       "        [227, 227, 227],\n",
       "        [227, 227, 227]],\n",
       "\n",
       "       [[  0,   0,   0],\n",
       "        [  0,   0,   0],\n",
       "        [  0,   0,   0],\n",
       "        ...,\n",
       "        [  0,   0,   0],\n",
       "        [227, 227, 227],\n",
       "        [227, 227, 227]]], dtype=uint8)"
      ]
     },
     "execution_count": 16,
     "metadata": {},
     "output_type": "execute_result"
    }
   ],
   "source": [
    "img[40:500, 400:500, :]"
   ]
  },
  {
   "cell_type": "code",
   "execution_count": null,
   "id": "becb8d65",
   "metadata": {},
   "outputs": [],
   "source": []
  }
 ],
 "metadata": {
  "kernelspec": {
   "display_name": "Python 3 (ipykernel)",
   "language": "python",
   "name": "python3"
  },
  "language_info": {
   "codemirror_mode": {
    "name": "ipython",
    "version": 3
   },
   "file_extension": ".py",
   "mimetype": "text/x-python",
   "name": "python",
   "nbconvert_exporter": "python",
   "pygments_lexer": "ipython3",
   "version": "3.8.5"
  }
 },
 "nbformat": 4,
 "nbformat_minor": 5
}
